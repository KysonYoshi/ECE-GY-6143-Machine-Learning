{
 "cells": [
  {
   "cell_type": "markdown",
   "metadata": {
    "id": "Ivyn_TWd7DGl"
   },
   "source": [
    "# Lab:  Simple linear regression\n",
    "\n",
    "You can download this lab from [GitHub](https://github.com/pliugithub/MachineLearning/blob/master/unit02_simp_lin_reg/lab_housing_partial.ipynb).\n",
    "```\n",
    "https://github.com/pliugithub/MachineLearning/blob/master/unit02_simp_lin_reg/lab_housing_partial.ipynb\n",
    "```\n",
    "\n",
    "In this lab, you will load data, plot data, perform simple mathematical manipulations, and fit a simple linear regression model.  Before doing this lab, you can go through the [demo](./demo_auto_mpg.ipynb) to see an example of these operations on an automobile dataset.  The lab use the Boston housing data set, a widely-used machine learning data set for illustrating basic concepts.  "
   ]
  },
  {
   "cell_type": "markdown",
   "metadata": {
    "collapsed": true,
    "id": "D5sxomQ77DGn"
   },
   "source": [
    "## Loading the data\n",
    "\n",
    "The Boston housing data set was collected in the 1970s to study the relationship between house price and various factors such as the house size, crime rate, socio-economic status, etc.  Since the variables are easy to understand, the data set is ideal for learning basic concepts in machine learning.  The raw data and a complete description of the dataset can be found on the UCI website:\n",
    "\n",
    "https://archive.ics.uci.edu/ml/machine-learning-databases/housing/housing.names\n",
    "\n",
    "In the lab, you will complete all the code marked `TODO`.\n",
    "\n",
    "First, complete the following code that uses the `pd.read_csv` command to read the data from the file located at\n",
    "\n",
    "https://archive.ics.uci.edu/ml/machine-learning-databases/housing/housing.data\n",
    "\n",
    "I have supplied a list `names` of the column headers.  You will have to set the options in the `read_csv` command to correctly delimit the data in the file and name the columns correctly."
   ]
  },
  {
   "cell_type": "code",
   "execution_count": 1,
   "metadata": {
    "executionInfo": {
     "elapsed": 478,
     "status": "ok",
     "timestamp": 1695155937430,
     "user": {
      "displayName": "劉騏鋒",
      "userId": "10686282509770274592"
     },
     "user_tz": 240
    },
    "id": "amZAns2n7DGo"
   },
   "outputs": [],
   "source": [
    "import pandas as pd\n",
    "import numpy as np\n",
    "names =[\n",
    "    'CRIM', 'ZN', 'INDUS', 'CHAS', 'NOX', 'RM',\n",
    "    'AGE',  'DIS', 'RAD', 'TAX', 'PTRATIO', 'B', 'LSTAT', 'PRICE'\n",
    "]\n",
    "\n",
    "# TODO 1:  Complete the code\n",
    "# df = pd.read_csv(...)\n",
    "df = pd.read_csv(\"https://archive.ics.uci.edu/ml/machine-learning-databases/housing/housing.data\", delim_whitespace=True, names=names)\n"
   ]
  },
  {
   "cell_type": "markdown",
   "metadata": {
    "id": "zbl_speQ7DGq"
   },
   "source": [
    "Display the first six rows of the data frame"
   ]
  },
  {
   "cell_type": "code",
   "execution_count": 2,
   "metadata": {
    "colab": {
     "base_uri": "https://localhost:8080/"
    },
    "executionInfo": {
     "elapsed": 11,
     "status": "ok",
     "timestamp": 1695155937431,
     "user": {
      "displayName": "劉騏鋒",
      "userId": "10686282509770274592"
     },
     "user_tz": 240
    },
    "id": "acODSSPX7DGq",
    "outputId": "1db902d0-f4fc-4ebb-bcd3-49b83c21726a"
   },
   "outputs": [
    {
     "name": "stdout",
     "output_type": "stream",
     "text": [
      "      CRIM    ZN  INDUS  CHAS    NOX     RM   AGE     DIS  RAD    TAX  \\\n",
      "0  0.00632  18.0   2.31     0  0.538  6.575  65.2  4.0900    1  296.0   \n",
      "1  0.02731   0.0   7.07     0  0.469  6.421  78.9  4.9671    2  242.0   \n",
      "2  0.02729   0.0   7.07     0  0.469  7.185  61.1  4.9671    2  242.0   \n",
      "3  0.03237   0.0   2.18     0  0.458  6.998  45.8  6.0622    3  222.0   \n",
      "4  0.06905   0.0   2.18     0  0.458  7.147  54.2  6.0622    3  222.0   \n",
      "5  0.02985   0.0   2.18     0  0.458  6.430  58.7  6.0622    3  222.0   \n",
      "\n",
      "   PTRATIO       B  LSTAT  PRICE  \n",
      "0     15.3  396.90   4.98   24.0  \n",
      "1     17.8  396.90   9.14   21.6  \n",
      "2     17.8  392.83   4.03   34.7  \n",
      "3     18.7  394.63   2.94   33.4  \n",
      "4     18.7  396.90   5.33   36.2  \n",
      "5     18.7  394.12   5.21   28.7  \n"
     ]
    }
   ],
   "source": [
    "# TODO 2: Display the first six rows of the data frame\n",
    "print(df.head(6))"
   ]
  },
  {
   "cell_type": "markdown",
   "metadata": {
    "id": "_k3zqjMe7DGq"
   },
   "source": [
    "## Basic Manipulations on the Data\n",
    "\n",
    "What is the shape of the data?  How many attributes are there?  How many samples?\n",
    "Print a statement of the form:\n",
    "\n",
    "    num samples=xxx, num attributes=yy"
   ]
  },
  {
   "cell_type": "code",
   "execution_count": 3,
   "metadata": {
    "colab": {
     "base_uri": "https://localhost:8080/"
    },
    "executionInfo": {
     "elapsed": 9,
     "status": "ok",
     "timestamp": 1695155937431,
     "user": {
      "displayName": "劉騏鋒",
      "userId": "10686282509770274592"
     },
     "user_tz": 240
    },
    "id": "aHa0s-1F7DGr",
    "outputId": "6e3656d3-da77-47e0-bb5b-c5d15c793093"
   },
   "outputs": [
    {
     "name": "stdout",
     "output_type": "stream",
     "text": [
      "num samples=506, num attributes=14\n"
     ]
    }
   ],
   "source": [
    "# TODO 3: What is the shape of the data? How many attributes are there? How many samples?\n",
    "shape = df.shape\n",
    "print(f\"num samples={shape[0]}, num attributes={shape[1]}\")"
   ]
  },
  {
   "cell_type": "markdown",
   "metadata": {
    "id": "IygNAeue7DGr"
   },
   "source": [
    "Create a response vector `y` with the values in the column `PRICE`.  The vector `y` should be a 1D `numpy.array` structure."
   ]
  },
  {
   "cell_type": "code",
   "execution_count": 4,
   "metadata": {
    "executionInfo": {
     "elapsed": 7,
     "status": "ok",
     "timestamp": 1695155937431,
     "user": {
      "displayName": "劉騏鋒",
      "userId": "10686282509770274592"
     },
     "user_tz": 240
    },
    "id": "a0SG3fDO7DGr"
   },
   "outputs": [],
   "source": [
    "# TODO 4: Create a response vector y with the values in the column PRICE\n",
    "# y = ...\n",
    "y = np.array(df['PRICE'])"
   ]
  },
  {
   "cell_type": "markdown",
   "metadata": {
    "id": "KOLyjGH87DGr"
   },
   "source": [
    "Use the response vector `y` to find the mean house price in thousands and the fraction of homes that are above $40k. (You may realize this is very cheap.  Prices have gone up a lot since the 1970s!).   Create print statements of the form:\n",
    "\n",
    "    The mean house price is xx.yy thousands of dollars.\n",
    "    Only x.y percent are above $40k."
   ]
  },
  {
   "cell_type": "code",
   "execution_count": 5,
   "metadata": {
    "colab": {
     "base_uri": "https://localhost:8080/"
    },
    "executionInfo": {
     "elapsed": 163,
     "status": "ok",
     "timestamp": 1695155937587,
     "user": {
      "displayName": "劉騏鋒",
      "userId": "10686282509770274592"
     },
     "user_tz": 240
    },
    "id": "RgAaYGOW7DGs",
    "outputId": "b882c2df-3b22-4560-f5e2-ed7171eea740"
   },
   "outputs": [
    {
     "name": "stdout",
     "output_type": "stream",
     "text": [
      "The mean house price is 22.53 thousands of dollars.\n",
      "Only 6.1 percent are above $40k.\n"
     ]
    }
   ],
   "source": [
    "# TODO 5: Use the response vector y to find the mean house price in thousands and the fraction of homes that are above $40k.\n",
    "mean_price = np.mean(y)\n",
    "above_40k = np.sum(y > 40) / len(y) * 100\n",
    "print(f\"The mean house price is {mean_price:.2f} thousands of dollars.\")\n",
    "print(f\"Only {above_40k:.1f} percent are above $40k.\")"
   ]
  },
  {
   "cell_type": "markdown",
   "metadata": {
    "id": "1Zv0oZQg7DGs"
   },
   "source": [
    "## Visualizing the Data\n",
    "\n",
    "Python's `matplotlib` has very good routines for plotting and visualizing data that closely follows the format of MATLAB programs.  You can load the `matplotlib` package with the following commands."
   ]
  },
  {
   "cell_type": "code",
   "execution_count": 6,
   "metadata": {
    "executionInfo": {
     "elapsed": 5,
     "status": "ok",
     "timestamp": 1695155937587,
     "user": {
      "displayName": "劉騏鋒",
      "userId": "10686282509770274592"
     },
     "user_tz": 240
    },
    "id": "RRa0M4lp7DGs"
   },
   "outputs": [],
   "source": [
    "import matplotlib\n",
    "import matplotlib.pyplot as plt\n",
    "%matplotlib inline"
   ]
  },
  {
   "cell_type": "markdown",
   "metadata": {
    "id": "MsMYXtLW7DGs"
   },
   "source": [
    "Similar to the `y` vector, create a predictor vector `x` containing the values in the `RM` column, which represents the average number of rooms in each region."
   ]
  },
  {
   "cell_type": "code",
   "execution_count": 7,
   "metadata": {
    "executionInfo": {
     "elapsed": 5,
     "status": "ok",
     "timestamp": 1695155937588,
     "user": {
      "displayName": "劉騏鋒",
      "userId": "10686282509770274592"
     },
     "user_tz": 240
    },
    "id": "XpmVbMyS7DGs"
   },
   "outputs": [],
   "source": [
    "# TODO 6: create a predictor vector x containing the values in the RM column\n",
    "# x = ...\n",
    "x = np.array(df['RM'])"
   ]
  },
  {
   "cell_type": "markdown",
   "metadata": {
    "id": "JnRYEQ9E7DGt"
   },
   "source": [
    "Create a scatter plot of the price vs. the `RM` attribute.  Make sure your plot has grid lines and label the axes with reasonable labels so that someone else can understand the plot."
   ]
  },
  {
   "cell_type": "code",
   "execution_count": 8,
   "metadata": {
    "colab": {
     "base_uri": "https://localhost:8080/",
     "height": 449
    },
    "executionInfo": {
     "elapsed": 204,
     "status": "ok",
     "timestamp": 1695155937787,
     "user": {
      "displayName": "劉騏鋒",
      "userId": "10686282509770274592"
     },
     "user_tz": 240
    },
    "id": "rA2nlEvz7DGt",
    "outputId": "85ea87e7-9408-4cc3-95bd-6e586730ef79"
   },
   "outputs": [
    {
     "data": {
      "image/png": "[encoded data removed]",
      "text/plain": [
       "<Figure size 432x288 with 1 Axes>"
      ]
     },
     "metadata": {
      "needs_background": "light"
     },
     "output_type": "display_data"
    }
   ],
   "source": [
    "# TODO 7: Create a scatter plot of the price vs. the RM attribute. Make sure your plot has grid lines and label the axes with reasonable labels\n",
    "plt.plot(x,y,'o')\n",
    "plt.xlabel(\"Average number of rooms\")\n",
    "plt.ylabel(\"House price in $1000\")\n",
    "plt.grid(True)"
   ]
  },
  {
   "cell_type": "markdown",
   "metadata": {
    "id": "gciZvBcK7DGt"
   },
   "source": [
    "## Fitting a Simple Linear Model\n",
    "\n",
    "We will write a simple function to perform a linear fit. Use the formulae given in the class, to compute the parameters $\\beta_0,\\beta_1$ in the linear model $$y =\\beta_0 + \\beta_1 x + \\epsilon$$ as well as the coefficient of determination $R^2$."
   ]
  },
  {
   "cell_type": "code",
   "execution_count": 9,
   "metadata": {
    "executionInfo": {
     "elapsed": 10,
     "status": "ok",
     "timestamp": 1695155937788,
     "user": {
      "displayName": "劉騏鋒",
      "userId": "10686282509770274592"
     },
     "user_tz": 240
    },
    "id": "31SoRmhz7DGt"
   },
   "outputs": [],
   "source": [
    "def fit_linear(x,y):\n",
    "    \"\"\"\n",
    "    Given vectors of data points (x,y), performs a fit for the linear model:\n",
    "       yhat = beta0 + beta1*x,\n",
    "    The function returns beta0, beta1 and rsq, where rsq is the coefficient of determination.\n",
    "    \"\"\"\n",
    "    # TODO 8: complete the following code\n",
    "    # beta0 = ...\n",
    "    # beta1 = ...\n",
    "    # rsq = ...\n",
    "    n = len(x)\n",
    "    beta1 = (np.sum(x * y) - np.mean(x) * np.mean(y) * n) / (np.sum(x * x) - n * np.mean(x)**2)\n",
    "    beta0 = np.mean(y) - beta1 * np.mean(x)\n",
    "    yhat = beta0 + beta1 * x\n",
    "    rsq = 1 - np.sum((y - yhat)**2) / np.sum((y - np.mean(y))**2)\n",
    "    return beta0, beta1, rsq"
   ]
  },
  {
   "cell_type": "markdown",
   "metadata": {
    "id": "2_Uwt9PB7DGt"
   },
   "source": [
    "Using the function `fit_linear` above, print the values `beta0`, `beta1` and `rsq` for the linear model of price vs. number of rooms."
   ]
  },
  {
   "cell_type": "code",
   "execution_count": 10,
   "metadata": {
    "colab": {
     "base_uri": "https://localhost:8080/"
    },
    "executionInfo": {
     "elapsed": 9,
     "status": "ok",
     "timestamp": 1695155937788,
     "user": {
      "displayName": "劉騏鋒",
      "userId": "10686282509770274592"
     },
     "user_tz": 240
    },
    "id": "Gt9MkwFg7DGt",
    "outputId": "95ee5d05-db3e-4afb-8bed-4bf5da8f7377"
   },
   "outputs": [
    {
     "name": "stdout",
     "output_type": "stream",
     "text": [
      "beta0 = -34.67062077643811, beta1 = 9.102108981180239, rsq = 0.4835254559913341\n"
     ]
    }
   ],
   "source": [
    "# TODO 9: print the values beta0, beta1 and rsq for the linear model of price vs. number of rooms.\n",
    "beta0, beta1, rsq = fit_linear(x, y)\n",
    "print(f\"beta0 = {beta0}, beta1 = {beta1}, rsq = {rsq}\")"
   ]
  },
  {
   "cell_type": "markdown",
   "metadata": {
    "id": "vUFQflK17DGt"
   },
   "source": [
    "Replot the scatter plot above, but now with the regression line.  You can create the regression line by creating points `xp` from say 4 to 9, computing the linear predicted values `yp` on those points and plotting `yp` vs. `xp` on top of the above plot."
   ]
  },
  {
   "cell_type": "code",
   "execution_count": 11,
   "metadata": {
    "colab": {
     "base_uri": "https://localhost:8080/",
     "height": 466
    },
    "executionInfo": {
     "elapsed": 388,
     "status": "ok",
     "timestamp": 1695155938168,
     "user": {
      "displayName": "劉騏鋒",
      "userId": "10686282509770274592"
     },
     "user_tz": 240
    },
    "id": "RtBTUjpF7DGu",
    "outputId": "2608c0fd-7964-406f-b314-14db2ea45658"
   },
   "outputs": [
    {
     "data": {
      "text/plain": [
       "[<matplotlib.lines.Line2D at 0x12da8ed2130>]"
      ]
     },
     "execution_count": 11,
     "metadata": {},
     "output_type": "execute_result"
    },
    {
     "data": {
      "image/png": "[encoded data removed]",
      "text/plain": [
       "<Figure size 432x288 with 1 Axes>"
      ]
     },
     "metadata": {
      "needs_background": "light"
     },
     "output_type": "display_data"
    }
   ],
   "source": [
    "# TODO 10: Replot the scatter plot above, but now with the regression line.\n",
    "plt.plot(x,y,'o')\n",
    "plt.xlabel(\"Average number of rooms\")\n",
    "plt.ylabel(\"House price in $1000\")\n",
    "plt.grid(True)\n",
    "xp = np.array([4, 9])\n",
    "yp = beta0 + beta1 * xp\n",
    "plt.plot(xp, yp, '-',linewidth=3)"
   ]
  },
  {
   "cell_type": "markdown",
   "metadata": {
    "id": "QoOXrsyD7DGu"
   },
   "source": [
    "# Compute coefficients of determination\n",
    "\n",
    "We next compute the $R^2$ values for all the predictors and output the values in a table. Your table should look like the following, where each the first column is the attribute name and the second column is the $R^2$ value.\n",
    "\n",
    "    CRIM        0.151\n",
    "    ZN          0.130\n",
    "    INDUS       0.234\n",
    "    ...         ...\n",
    "\n",
    "To index over the set of colunms in the dataframe `df`, you can either loop over the items in the `names` lists (skipping over the final name `PRICE`) or loop over integer indices and use the method, `df.iloc`."
   ]
  },
  {
   "cell_type": "code",
   "execution_count": 12,
   "metadata": {
    "colab": {
     "base_uri": "https://localhost:8080/"
    },
    "executionInfo": {
     "elapsed": 8,
     "status": "ok",
     "timestamp": 1695155938168,
     "user": {
      "displayName": "劉騏鋒",
      "userId": "10686282509770274592"
     },
     "user_tz": 240
    },
    "id": "lCSzofJh7DGu",
    "outputId": "f77e5b94-fea2-4633-e399-69b3fe52636d"
   },
   "outputs": [
    {
     "name": "stdout",
     "output_type": "stream",
     "text": [
      "CRIM       0.151\n",
      "ZN         0.130\n",
      "INDUS      0.234\n",
      "CHAS       0.031\n",
      "NOX        0.183\n",
      "RM         0.484\n",
      "AGE        0.142\n",
      "DIS        0.062\n",
      "RAD        0.146\n",
      "TAX        0.220\n",
      "PTRATIO    0.258\n",
      "B          0.111\n",
      "LSTAT      0.544\n"
     ]
    }
   ],
   "source": [
    "# TODO 11:  compute the 𝑅^2 values for all the predictors and output the values in a table.\n",
    "rsq_values = {}\n",
    "for col in df.columns[:-1]:\n",
    "    rsq_values[col] = fit_linear(df[col], y)[2]\n",
    "\n",
    "for col, rsq_value in rsq_values.items():\n",
    "    print(f\"{col:10} {rsq_value:.3f}\")"
   ]
  },
  {
   "cell_type": "code",
   "execution_count": null,
   "metadata": {
    "executionInfo": {
     "elapsed": 7,
     "status": "ok",
     "timestamp": 1695155938169,
     "user": {
      "displayName": "劉騏鋒",
      "userId": "10686282509770274592"
     },
     "user_tz": 240
    },
    "id": "3WNfVbfR7DGu"
   },
   "outputs": [],
   "source": []
  },
  {
   "cell_type": "code",
   "execution_count": null,
   "metadata": {},
   "outputs": [],
   "source": []
  },
  {
   "cell_type": "code",
   "execution_count": null,
   "metadata": {},
   "outputs": [],
   "source": []
  },
  {
   "cell_type": "code",
   "execution_count": null,
   "metadata": {},
   "outputs": [],
   "source": []
  }
 ],
 "metadata": {
  "anaconda-cloud": {},
  "colab": {
   "provenance": []
  },
  "kernelspec": {
   "display_name": "Python 3 (ipykernel)",
   "language": "python",
   "name": "python3"
  },
  "language_info": {
   "codemirror_mode": {
    "name": "ipython",
    "version": 3
   },
   "file_extension": ".py",
   "mimetype": "text/x-python",
   "name": "python",
   "nbconvert_exporter": "python",
   "pygments_lexer": "ipython3",
   "version": "3.9.12"
  }
 },
 "nbformat": 4,
 "nbformat_minor": 1
}
