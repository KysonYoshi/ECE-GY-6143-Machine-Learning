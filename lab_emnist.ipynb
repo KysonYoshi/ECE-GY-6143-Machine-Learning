{
 "cells": [
  {
   "cell_type": "markdown",
   "metadata": {
    "id": "RGSSDFheYh0L"
   },
   "source": [
    "# Lab: SVMs on Extended MNIST\n",
    "\n",
    "In the [MNIST demo](demo_mnist_svm.ipynb), we saw how SVMs can be used for the classic MNIST problem of digit recognition. In this lab, we are going to extend the MNIST dataset by adding a number of non-digit letters and see if the classifier can distinguish the digits from the non-digits. All non-digits will be lumped as a single 11-th class. This is a highly simplified version of 'detection' problem (as opposed to 'classification' problem). Detection is vital in OCR and related problems since the non useful characters must be rejected.\n",
    "\n",
    "In addition to the concepts in the demo, you will learn:\n",
    "* Combine multiple datasets\n",
    "* Select the SVM parameters (`C` and `gamma`) via cross-validation.\n",
    "* Use the `GridSearchCV` method to search for parameters with cross-validation.\n",
    "\n",
    "Note:  An [earlier version](lab_emnist_2017_partial.ipynb) of this lab made you manually create the combined letter and digit data.  In this lab, we will download the data from NIST website.  But, the old lab is still useful to look at if you want to see how to use `skimage` package for a number of image pre-processing tasks."
   ]
  },
  {
   "cell_type": "markdown",
   "metadata": {
    "id": "zlJGtAUNYh0M"
   },
   "source": [
    "As usual, we download the standard packages"
   ]
  },
  {
   "cell_type": "code",
   "execution_count": 2,
   "metadata": {
    "id": "HHhfZAPrYh0N"
   },
   "outputs": [],
   "source": [
    "import numpy as np\n",
    "import matplotlib.pyplot as plt\n",
    "%matplotlib inline\n",
    "from sklearn import linear_model, preprocessing"
   ]
  },
  {
   "cell_type": "markdown",
   "metadata": {
    "id": "Tpowq5YeYh0N"
   },
   "source": [
    "## Downloading the EMNIST Dataset\n",
    "\n",
    "After creating the highly popular MNIST dataset, NIST created an extended version of the dataset to include letters and digits.     The extended datase (called EMNIST) also has many more examples per class.  \n",
    "\n",
    "To download the data, first go to the [EMNIST webpage](https://www.nist.gov/itl/iad/image-group/emnist-dataset).  Near the bottom, you will see a link for `MATLAB format dataset`.  If you click on this link, you will download a `zip` file with several datasets in it.  The total file is 726M, so it may take some time and diskspace to download.  Extract two files:\n",
    "* `emnist-digits.mat`:  This is a file of digits `0` to `9`, but with more examples per class.\n",
    "* `emnist-letters.mat`:  This is a file of letters `a/A` to `z/Z`.  The lower and upper case letters are grouped into the same class.\n",
    "\n",
    "Once you get these two files, you can save yourself the diskspace and remove all the other files.\n",
    "\n",
    "You can download the files manually, or you can run the following commands which will download the files automatically.  "
   ]
  },
  {
   "cell_type": "code",
   "execution_count": 3,
   "metadata": {
    "colab": {
     "base_uri": "https://localhost:8080/"
    },
    "id": "d9qQD_GqYh0O",
    "outputId": "ccf238ce-568e-48b9-8e69-787e1e67b35b"
   },
   "outputs": [
    {
     "name": "stdout",
     "output_type": "stream",
     "text": [
      "Downloading matlab.zip\n"
     ]
    },
    {
     "name": "stderr",
     "output_type": "stream",
     "text": [
      "709kkB [00:28, 25.2kkB/s]                                                                                              \n"
     ]
    },
    {
     "name": "stdout",
     "output_type": "stream",
     "text": [
      "Unzipping matlab.zip...\n",
      "Unzip completed\n"
     ]
    }
   ],
   "source": [
    "from tqdm import tqdm\n",
    "import requests\n",
    "import os\n",
    "import zipfile\n",
    "\n",
    "def download_file(src_url, dst_fn):\n",
    "\n",
    "    if os.path.exists(dst_fn):\n",
    "        print('File %s already exists' % dst_fn)\n",
    "        return\n",
    "\n",
    "    print('Downloading %s' % dst_fn)\n",
    "\n",
    "    # Streaming, so we can iterate over the response.\n",
    "    r = requests.get(src_url, stream=True)\n",
    "\n",
    "    # Total size in MB.\n",
    "    total_size = int(r.headers.get('content-length', 0));\n",
    "    block_size = 1024\n",
    "    wrote = 0\n",
    "    with open(dst_fn, 'wb') as f:\n",
    "        with tqdm(total=total_size//block_size, unit='kB',\n",
    "                           unit_scale=True, unit_divisor=1024) as pbar:\n",
    "            for data in r.iter_content(block_size):\n",
    "                wrote = wrote + len(data)\n",
    "                pbar.update(1)\n",
    "                f.write(data)\n",
    "    if total_size != 0 and wrote != total_size:\n",
    "        print(\"ERROR, something went wrong\")\n",
    "\n",
    "# Get file names\n",
    "matlab_dir = 'matlab'\n",
    "digits_fn =  os.path.join(matlab_dir,'emnist-digits.mat')\n",
    "letters_fn = os.path.join(matlab_dir,'emnist-letters.mat')\n",
    "\n",
    "# Check if files exists\n",
    "if os.path.exists(matlab_dir):\n",
    "    if os.path.exists(digits_fn) and os.path.exists(letters_fn):\n",
    "        print('Files already downloaded')\n",
    "        files_exists = True\n",
    "else:\n",
    "    files_exists = False\n",
    "\n",
    "if not files_exists:\n",
    "    # First download the zip file if needed\n",
    "    src_url = \"http://www.itl.nist.gov/iaui/vip/cs_links/EMNIST/matlab.zip\"\n",
    "    dst_fn = 'matlab.zip'\n",
    "    download_file(src_url, dst_fn)\n",
    "\n",
    "    # Then, unzip the file\n",
    "    print('Unzipping %s...' % dst_fn)\n",
    "    zip_ref = zipfile.ZipFile(dst_fn, 'r')\n",
    "    zip_ref.extractall('.')\n",
    "    zip_ref.close()\n",
    "    print('Unzip completed')"
   ]
  },
  {
   "cell_type": "markdown",
   "metadata": {
    "id": "hyhkCSp1Yh0O"
   },
   "source": [
    "Since MATLAB files are still widely-used, Python has excellent routines for loading MATLAB files.  The function below uses the `scipy.io` package to extract the relevant fields from the MATLAB file.  Specifically, the function extracts the training and test data from MATLAB file."
   ]
  },
  {
   "cell_type": "code",
   "execution_count": 4,
   "metadata": {
    "id": "38zEw7Z-Yh0O"
   },
   "outputs": [],
   "source": [
    "import scipy.io\n",
    "def load_emnist(file_path='emnist-digits.mat'):\n",
    "    \"\"\"\n",
    "    Loads training and test data with ntr and nts training and test samples\n",
    "    The `file_path` is the location of the `eminst-balanced.mat`.\n",
    "    \"\"\"\n",
    "\n",
    "    # Load the MATLAB file\n",
    "    mat = scipy.io.loadmat(file_path)\n",
    "\n",
    "    # Get the training data\n",
    "    Xtr = mat['dataset'][0][0][0][0][0][0][:]\n",
    "    ntr = Xtr.shape[0]\n",
    "    ytr = mat['dataset'][0][0][0][0][0][1][:].reshape(ntr).astype(int)\n",
    "\n",
    "    # Get the test data\n",
    "    Xts = mat['dataset'][0][0][1][0][0][0][:]\n",
    "    nts = Xts.shape[0]\n",
    "    yts = mat['dataset'][0][0][1][0][0][1][:].reshape(nts).astype(int)\n",
    "\n",
    "    print(\"%d training samples, %d test samples loaded\" % (ntr, nts))\n",
    "\n",
    "    return [Xtr, Xts, ytr, yts]"
   ]
  },
  {
   "cell_type": "markdown",
   "metadata": {
    "id": "dlt5YredYh0O"
   },
   "source": [
    "Use the function above to get all the digit images from the `emnist-digits.mat` file.  "
   ]
  },
  {
   "cell_type": "code",
   "execution_count": 5,
   "metadata": {
    "colab": {
     "base_uri": "https://localhost:8080/"
    },
    "id": "1UrP_ty2Yh0O",
    "outputId": "5aaf2f78-dcdb-47a4-c805-80187312cd40"
   },
   "outputs": [
    {
     "name": "stdout",
     "output_type": "stream",
     "text": [
      "240000 training samples, 40000 test samples loaded\n"
     ]
    }
   ],
   "source": [
    "# TODO 1:  Load the digit data from emnist-digits.mat\n",
    "# Xtr_dig, Xts_dig, ytr_dig, yts_dig = ...\n",
    "Xtr_dig, Xts_dig, ytr_dig, yts_dig = load_emnist('matlab/emnist-digits.mat')"
   ]
  },
  {
   "cell_type": "markdown",
   "metadata": {
    "id": "H0JDeYRYYh0O"
   },
   "source": [
    "Next, use the function above to get all the letter characters from the `emnist-letters.mat` file.  "
   ]
  },
  {
   "cell_type": "code",
   "execution_count": 6,
   "metadata": {
    "colab": {
     "base_uri": "https://localhost:8080/"
    },
    "id": "un6talxkYh0O",
    "outputId": "f6dbdd5c-2878-4316-b019-e2ae6da670a1"
   },
   "outputs": [
    {
     "name": "stdout",
     "output_type": "stream",
     "text": [
      "124800 training samples, 20800 test samples loaded\n"
     ]
    }
   ],
   "source": [
    "# TODO 2:  Load the letter data from emnist-letters.mat\n",
    "# Xtr_let, Xts_let, ytr_let, yts_let = ...\n",
    "Xtr_let, Xts_let, ytr_let, yts_let = load_emnist(file_path='matlab/emnist-letters.mat')"
   ]
  },
  {
   "cell_type": "markdown",
   "metadata": {
    "id": "JLuasAnJYh0P"
   },
   "source": [
    "We will use the function from the demo to plot the digits."
   ]
  },
  {
   "cell_type": "code",
   "execution_count": 7,
   "metadata": {
    "id": "eBDVs7f3Yh0P"
   },
   "outputs": [],
   "source": [
    "def plt_digit(x,y=None):\n",
    "    nrow = 28\n",
    "    ncol = 28\n",
    "    xsq = x.reshape((nrow,ncol))\n",
    "    plt.imshow(xsq.T,  cmap='Greys_r')\n",
    "    plt.xticks([])\n",
    "    plt.yticks([])\n",
    "    if y != None:\n",
    "        plt.title('%d' % y)"
   ]
  },
  {
   "cell_type": "markdown",
   "metadata": {
    "id": "34-GrrFeYh0P"
   },
   "source": [
    "Plot 8 random samples from the digit training data.  You can use the `plt_digit` function above with `subplot` to create a nice display.  You may want to size your plot with the `plt.figure(figsize=(10,20))` command."
   ]
  },
  {
   "cell_type": "code",
   "execution_count": 8,
   "metadata": {
    "colab": {
     "base_uri": "https://localhost:8080/",
     "height": 141
    },
    "id": "beBYOnZWYh0P",
    "outputId": "7c35b0cc-c75c-49bc-be28-413230411de4"
   },
   "outputs": [
    {
     "data": {
      "image/png": "[encoded data removed]",
      "text/plain": [
       "<Figure size 720x1440 with 8 Axes>"
      ]
     },
     "metadata": {},
     "output_type": "display_data"
    }
   ],
   "source": [
    "# TODO 3:  Plot 8 random samples from the training data of the digits\n",
    "import random\n",
    "\n",
    "plt.figure(figsize=(10, 20))\n",
    "\n",
    "for i in range(8):\n",
    "    idx = random.randint(0, len(Xtr_dig) - 1)\n",
    "    plt.subplot(1, 8, i + 1)\n",
    "    plt_digit(Xtr_dig[idx], ytr_dig[idx])\n",
    "\n",
    "plt.show()\n"
   ]
  },
  {
   "cell_type": "markdown",
   "metadata": {
    "id": "-Nd6Hj9mYh0P"
   },
   "source": [
    "Next, plot 8 samples from the letters training data.  You should see that the labels go from 0 to 25 corresponding to `a` to `z`.  Upper and lower case letters belong to the same class."
   ]
  },
  {
   "cell_type": "code",
   "execution_count": 9,
   "metadata": {
    "colab": {
     "base_uri": "https://localhost:8080/",
     "height": 141
    },
    "id": "aeKS6JmTYh0P",
    "outputId": "07f865e3-9150-452f-b3a6-df9ed1d320db"
   },
   "outputs": [
    {
     "data": {
      "image/png": "[encoded data removed]",
      "text/plain": [
       "<Figure size 720x1440 with 8 Axes>"
      ]
     },
     "metadata": {},
     "output_type": "display_data"
    }
   ],
   "source": [
    "# TODO 4:  Plot 8 random samples from the training data of the letters\n",
    "plt.figure(figsize=(10, 20))\n",
    "\n",
    "for i in range(8):\n",
    "    idx = random.randint(0, len(Xtr_let) - 1)\n",
    "    plt.subplot(1, 8, i + 1)\n",
    "    plt_digit(Xtr_let[idx], ytr_let[idx] - 1)\n",
    "\n",
    "plt.show()"
   ]
  },
  {
   "cell_type": "markdown",
   "metadata": {
    "id": "NS14no3pYh0P"
   },
   "source": [
    "## Creating a Non-Digit Class\n",
    "\n",
    "SVM classifiers are VERY SLOW to train.  The training is particularly slow when there are a large number of classes, since the one classifier must be trained for each pair of labels.  To make the problem easier, we are going to lump all of the letters in one class and add that class to the digits.  \n",
    "\n",
    "Before we begin, we first need to remove all the letters corresponding to `i/I`, `l/L` and `o/O`.  The reason is that these letters would get confused with the digits `0` and `1`.  Create arrays `Xtr_let_rem` and `ytr_let_rem` from the data `Xtr_let` and `ytr_let`, where the samples `i` with `ytr_let[i] == 9, 12` or `15` are removed.   Create `Xts_let_rem` and `yts_let_rem` similarly.\n",
    "\n",
    "If you are clever, you can do this without a for-loop via python broadcasting and `np.all(..., axis=1)` command.  But, you will receive full marks if you use a `for-loop`."
   ]
  },
  {
   "cell_type": "code",
   "execution_count": 10,
   "metadata": {
    "id": "WP8KjLs2Yh0P"
   },
   "outputs": [],
   "source": [
    "remove_list = np.array([9,12,15])\n",
    "\n",
    "# TODO 5:  Create arrays with labels 9, 12 and 15 removed\n",
    "# Xtr_let_rem, ytr_let_rem = ...\n",
    "# Xts_let_rem, yts_let_rem = ...\n",
    "remove_list = np.array([9, 12, 15])\n",
    "\n",
    "mask_tr = ~np.isin(ytr_let, remove_list)\n",
    "mask_ts = ~np.isin(yts_let, remove_list)\n",
    "\n",
    "Xtr_let_rem = Xtr_let[mask_tr, :]\n",
    "ytr_let_rem = ytr_let[mask_tr]\n",
    "\n",
    "Xts_let_rem = Xts_let[mask_ts, :]\n",
    "yts_let_rem = yts_let[mask_ts]\n"
   ]
  },
  {
   "cell_type": "markdown",
   "metadata": {
    "id": "G_eEHz8cYh0P"
   },
   "source": [
    "Since training and testing an SVM is VERY SLOW, we will use only a small subset of the training and test data.  Of course, you will not get great results with this small dataset.  But, we can at least illustrate the basic concepts.  \n",
    "\n",
    "Create arrays `Xtr1_dig` and `ytr1_dig` by selecting 5000 random training digit samples from `Xtr_dig` and `ytr_dig`.  Create arrays `Xtr1_let` and `ytr1_let` by selecting 1000 random training letter samples from `Xtr_let_rem` and `ytr_let_rem`.  Similarly, create test arrays `Xts1_dig,Xts1_let,yts1_dig,yts1_let` with 5000 digits and 1000 letters."
   ]
  },
  {
   "cell_type": "code",
   "execution_count": 11,
   "metadata": {
    "id": "A78GHyioYh0P"
   },
   "outputs": [],
   "source": [
    "# Number of training and test digits and letters\n",
    "ntr_dig = 5000\n",
    "ntr_let = 1000\n",
    "nts_dig = 5000\n",
    "nts_let = 1000\n",
    "\n",
    "# TODO 6 Create sub-sampled training and test data\n",
    "# Xtr1_dig, ytr1_dig = ...\n",
    "# Xts1_dig, yts1_dig = ...\n",
    "# Xtr1_let, ytr1_let = ...\n",
    "# Xts1_let, yts1_let = ...\n",
    "np.random.seed(0)\n",
    "\n",
    "ind_tr_dig = np.random.choice(Xtr_dig.shape[0], ntr_dig, replace=False)\n",
    "ind_tr_let = np.random.choice(Xtr_let_rem.shape[0], ntr_let, replace=False)\n",
    "\n",
    "Xtr1_dig = Xtr_dig[ind_tr_dig, :]\n",
    "ytr1_dig = ytr_dig[ind_tr_dig]\n",
    "\n",
    "Xtr1_let = Xtr_let_rem[ind_tr_let, :]\n",
    "ytr1_let = ytr_let_rem[ind_tr_let]\n",
    "\n",
    "ind_ts_dig = np.random.choice(Xts_dig.shape[0], nts_dig, replace=False)\n",
    "ind_ts_let = np.random.choice(Xts_let_rem.shape[0], nts_let, replace=False)\n",
    "\n",
    "Xts1_dig = Xts_dig[ind_ts_dig, :]\n",
    "yts1_dig = yts_dig[ind_ts_dig]\n",
    "\n",
    "Xts1_let = Xts_let_rem[ind_ts_let, :]\n",
    "yts1_let = yts_let_rem[ind_ts_let]\n"
   ]
  },
  {
   "cell_type": "markdown",
   "metadata": {
    "id": "K_8kgOKVYh0Q"
   },
   "source": [
    "Next, we create data by combining the digit and letter arrays.\n",
    "* Create an array `Xtr` by stacking `Xtr1_dig`, `Xtr1_let`.  This should result in 6000 total samples.\n",
    "* Create a new label vector `ytr` where `ytr[i] = ytr1_dig[i]` for any digit sample and `ytr[i]=10` for any letter sample.  Thus, all the letters are lumped into a single class with label 11.\n",
    "\n",
    "Create test arrays `Xts` and `yts` similarly.\n",
    "\n",
    "You may wish to use the `np.hstack` and `np.vstack` methods."
   ]
  },
  {
   "cell_type": "code",
   "execution_count": 12,
   "metadata": {
    "id": "E-5Rq3YJYh0Q"
   },
   "outputs": [],
   "source": [
    "# TODO 7:  Create combined letter and digit training and test data\n",
    "# Xtr, ytr = ..\n",
    "# Xts, yts = ...\n",
    "Xtr = np.vstack((Xtr1_dig, Xtr1_let))\n",
    "\n",
    "ytr = np.hstack((ytr1_dig, np.full(ytr1_let.shape, 10)))\n",
    "\n",
    "Xts = np.vstack((Xts1_dig, Xts1_let))\n",
    "\n",
    "yts = np.hstack((yts1_dig, np.full(yts1_let.shape, 10)))\n"
   ]
  },
  {
   "cell_type": "markdown",
   "metadata": {
    "id": "651Wjt2TYh0Q"
   },
   "source": [
    "The training data above takes values from 0 to 255.  Rescale the data from -1 to 1.  This will get slightly better performance on the SVM.  Save the scaled data into arrays `Xtr1` and `Xts1`."
   ]
  },
  {
   "cell_type": "code",
   "execution_count": 13,
   "metadata": {
    "id": "wzXnlu_WYh0Q"
   },
   "outputs": [],
   "source": [
    "# TODO 8:  Rescale the data from -1 to 1\n",
    "# Xtr1 = ...\n",
    "# Xts1 = ...\n",
    "Xtr1 = 2*Xtr/255 - 1\n",
    "Xts1 = 2*Xts/255 - 1"
   ]
  },
  {
   "cell_type": "markdown",
   "metadata": {
    "id": "c180qFsmYh0Q"
   },
   "source": [
    "## Run the SVM classifier\n",
    "\n",
    "First create the SVM classifer. Use an `rbf` classifier with `C=2.8` and `gamma=.0073`. We will look at how to select these parameters laters."
   ]
  },
  {
   "cell_type": "code",
   "execution_count": 14,
   "metadata": {
    "id": "-GgUGD9KYh0Q"
   },
   "outputs": [],
   "source": [
    "from sklearn import svm\n",
    "\n",
    "# TODO 9:  Create a classifier: a support vector classifier\n",
    "# svc = ...\n",
    "svc = svm.SVC(C=2.8, gamma=0.0073, kernel='rbf')"
   ]
  },
  {
   "cell_type": "markdown",
   "metadata": {
    "id": "6m2IpeGxYh0Q"
   },
   "source": [
    "Fit the classifier using the scaled training data.  SVMs are insanely slow to train.  But, in this lab, we have kept the training size very small. So, the fitting should take about a minute or two."
   ]
  },
  {
   "cell_type": "code",
   "execution_count": 15,
   "metadata": {
    "colab": {
     "base_uri": "https://localhost:8080/",
     "height": 74
    },
    "id": "eQ1NXCCmYh0Q",
    "outputId": "4429a1e4-0f69-4038-d224-ddc5ef586acc"
   },
   "outputs": [
    {
     "data": {
      "text/plain": [
       "SVC(C=2.8, gamma=0.0073)"
      ]
     },
     "execution_count": 15,
     "metadata": {},
     "output_type": "execute_result"
    }
   ],
   "source": [
    "# TODO 10:  Fit the classifier on the training data.\n",
    "svc.fit(Xtr1, ytr)"
   ]
  },
  {
   "cell_type": "markdown",
   "metadata": {
    "id": "Ul7pYb5jYh0Q"
   },
   "source": [
    "Measure the accuracy on the test data.  This too will take another huge amount of time.  Print the accuracy.  If you did everything right, you should get an accuracy of around 89%."
   ]
  },
  {
   "cell_type": "code",
   "execution_count": 16,
   "metadata": {
    "colab": {
     "base_uri": "https://localhost:8080/"
    },
    "id": "quoQP-8pYh0Q",
    "outputId": "a0545135-6c9a-4d9c-872d-07934042b6c1"
   },
   "outputs": [
    {
     "name": "stdout",
     "output_type": "stream",
     "text": [
      "The accuracy on the test data is: 90.35%\n"
     ]
    }
   ],
   "source": [
    "# TODO 11:  Measure error on the test data\n",
    "accuracy = svc.score(Xts1, yts)\n",
    "print(f\"The accuracy on the test data is: {accuracy * 100:.2f}%\")"
   ]
  },
  {
   "cell_type": "markdown",
   "metadata": {
    "id": "us3Fo2qNYh0Q"
   },
   "source": [
    "The error rate is quite a bit higher than what we got in the digits only case.  Actually, had we done a classifier using all 36 labels instead of collapsing the letters to a single class, the SVM classifier would have done much better.  The reason is that the \"letters\" class is now extremely complex.  \n",
    "\n",
    "Print a confusion matrix.  You should see that the error rate on the \"letters\" class is much higher."
   ]
  },
  {
   "cell_type": "code",
   "execution_count": 17,
   "metadata": {
    "colab": {
     "base_uri": "https://localhost:8080/"
    },
    "id": "z_l_6NubYh0Q",
    "outputId": "ba9c7ca9-95b1-4eb6-a914-0c9024e33a30"
   },
   "outputs": [
    {
     "name": "stdout",
     "output_type": "stream",
     "text": [
      "Confusion matrix:\n",
      "[[467   0   0   2   1   1   0   0   1   0  23]\n",
      " [  0 479   0   0   1   0   0   0   2   0   8]\n",
      " [  2   1 466   6   0   0   1   3   2   0  27]\n",
      " [  1   1   4 462   0   9   0   0   3   1  15]\n",
      " [  0   0   0   0 440   0   1   0   1   6  35]\n",
      " [  2   0   0   8   3 457   3   0   1   0  28]\n",
      " [  1   1   0   0   1   3 506   0   0   0  24]\n",
      " [  0   0   0   1   1   0   0 485   0   9  10]\n",
      " [  1   2   2   8   2   6   1   0 460   7  31]\n",
      " [  0   1   0   7   4   2   0   6   2 435   7]\n",
      " [ 23  11  31  30  29  35  26   3  17  31 764]]\n"
     ]
    }
   ],
   "source": [
    "# TODO 12:  Print a confusion matrix\n",
    "from sklearn.metrics import confusion_matrix\n",
    "yts_pred = svc.predict(Xts1)\n",
    "\n",
    "cm = confusion_matrix(yts, yts_pred)\n",
    "\n",
    "print(\"Confusion matrix:\")\n",
    "print(cm)\n"
   ]
  },
  {
   "cell_type": "markdown",
   "metadata": {
    "id": "g4K5-0aSYh0R"
   },
   "source": [
    "Print:\n",
    "* What fraction of digits are mislabeled as letters?  \n",
    "* What fraction of letters are mislabeled as digits?"
   ]
  },
  {
   "cell_type": "code",
   "execution_count": 18,
   "metadata": {
    "colab": {
     "base_uri": "https://localhost:8080/"
    },
    "id": "TrTPc4gLYh0R",
    "outputId": "56b4e34f-651d-494b-cb24-cff05ae2f85f"
   },
   "outputs": [
    {
     "name": "stdout",
     "output_type": "stream",
     "text": [
      "Fraction of digits mislabeled as letters: 4.16%\n",
      "Fraction of letters mislabeled as digits: 23.60%\n"
     ]
    }
   ],
   "source": [
    "# TODO 13:  Print above two error rates\n",
    "total_digits = np.sum(yts < 10)\n",
    "\n",
    "total_letters = np.sum(yts == 10)\n",
    "\n",
    "digits_as_letters = np.sum(cm[:10, 10])\n",
    "\n",
    "letters_as_digits = np.sum(cm[10, :10])\n",
    "\n",
    "fraction_digits_as_letters = digits_as_letters / total_digits\n",
    "fraction_letters_as_digits = letters_as_digits / total_letters\n",
    "\n",
    "print(f\"Fraction of digits mislabeled as letters: {fraction_digits_as_letters:.2%}\")\n",
    "print(f\"Fraction of letters mislabeled as digits: {fraction_letters_as_digits:.2%}\")\n"
   ]
  },
  {
   "cell_type": "markdown",
   "metadata": {
    "id": "M-d2WQ4DYh0R"
   },
   "source": [
    "## Selecting gamma and C via Cross-Validation (Using For-Loops)\n",
    "\n",
    "In the above example, and in the demo, we used a given `gamma` and `C` value.  The selection of the parameters depend on the problem and decent performance of the SVM requires that you select these parameters carefully.  The best way to select the parameters is via cross validation.  Specifically, generally, one tries different values of `gamma` and `C` and selects the pair of values the lowest test error rate.\n",
    "\n",
    "In the code below, we will try to use 3 values for `C` and `gamma` as specified in the arrays `C_test` and `gam_test`.  For each `C` and `gamma` in these arrays, fit a model on the training data and measure the accuracy on the test data.  Then, print the `C` and `gamma` that result in the best accuracy.   \n",
    "\n",
    "Normally, you would try a large number of values for each of the parameters, but an SVM is very slow to train -- even with this small data set.  So, we will just do 3 values of each.  Even then, this could take 30 minutes or so to complete.\n",
    "\n",
    "In this lab, you may do the parameter search over `C` and `gamma` in one of two ways:\n",
    "* This section:  Use for loops and manually search over the parameters.  This is more direct and you will see and control exactly what is happening.\n",
    "* Next section:  Use the `GridSearchCV` method in the `sklearn` package.  This takes a little reading, but once you learn this method, you can more easily use this for complex parameter searches.\n",
    "\n",
    "**You only need to submit the solutions to one of the two sections.**  Pick whichever one you want."
   ]
  },
  {
   "cell_type": "code",
   "execution_count": 19,
   "metadata": {
    "id": "TQAGfCmWYh0R"
   },
   "outputs": [],
   "source": [
    "C_test = [0.1,1,10]\n",
    "gam_test = [0.001,0.01,0.1]\n",
    "\n",
    "nC = len(C_test)\n",
    "ngam = len(gam_test)\n",
    "acc = np.zeros((nC,ngam))\n",
    "\n",
    "# TODO 14:  Measure and print the accuracy for each C and gamma value.  Store the results in acc\n",
    "from sklearn.metrics import accuracy_score\n",
    "\n",
    "# Initialize variables to track the best parameters\n",
    "best_acc = 0\n",
    "best_C = None\n",
    "best_gamma = None\n",
    "\n",
    "# Iterate over all combinations of C and gamma\n",
    "for i, C in enumerate(C_test):\n",
    "    for j, gamma in enumerate(gam_test):\n",
    "        # Create and fit the SVM classifier for the current parameters\n",
    "        svc = svm.SVC(C=C, gamma=gamma)\n",
    "        svc.fit(Xtr1, ytr)\n",
    "\n",
    "        # Predict the labels on the validation set\n",
    "        yval_pred = svc.predict(Xts1)\n",
    "\n",
    "        # Calculate the accuracy\n",
    "        acc[i, j] = accuracy_score(yts, yval_pred)\n",
    "\n",
    "        # Update the best parameters if the current accuracy is better\n",
    "        if acc[i, j] > best_acc:\n",
    "            best_acc = acc[i, j]\n",
    "            best_C = C\n",
    "            best_gamma = gamma\n"
   ]
  },
  {
   "cell_type": "code",
   "execution_count": 20,
   "metadata": {
    "colab": {
     "base_uri": "https://localhost:8080/"
    },
    "id": "xE8fbP7QYh0R",
    "outputId": "667950b1-8875-481c-aa9b-eb48c8a1a005"
   },
   "outputs": [
    {
     "name": "stdout",
     "output_type": "stream",
     "text": [
      "Accuracy matrix:\n",
      "[[0.52016667 0.8175     0.22216667]\n",
      " [0.8205     0.89583333 0.38783333]\n",
      " [0.858      0.9105     0.4365    ]]\n"
     ]
    }
   ],
   "source": [
    "# TODO 15:  Print the accuracy matrix\n",
    "print(\"Accuracy matrix:\")\n",
    "print(acc)"
   ]
  },
  {
   "cell_type": "code",
   "execution_count": 21,
   "metadata": {
    "colab": {
     "base_uri": "https://localhost:8080/"
    },
    "id": "lhIQJbU0Yh0R",
    "outputId": "d39c4d15-eb02-42d7-9548-b74461b636ef"
   },
   "outputs": [
    {
     "name": "stdout",
     "output_type": "stream",
     "text": [
      "The maximum accuracy is 0.9105 with C=10 and gamma=0.01\n"
     ]
    }
   ],
   "source": [
    "# TODO 16:  Print the maximum accuracy and the corresponding best C and gamma\n",
    "print(f\"The maximum accuracy is {best_acc:.4f} with C={best_C} and gamma={best_gamma}\")"
   ]
  },
  {
   "cell_type": "markdown",
   "metadata": {
    "collapsed": true,
    "id": "OzkDlTh7Yh0Z"
   },
   "source": [
    "## Using `GridSearchCV` (Optional Section)\n",
    "\n",
    "\n",
    "In the previous section, you would have likely used `for-loops` to search over the different `C` and `gamma` values.  Since this type of parameter search is so commonly used, `sklearn` has an excellent method `GridSearchCV` that can perform all the operations for you.  In this lab, `GridSearchCV` is not that useful.  But, once you get to more complex parameter searches, the `GridSearchCV` method can save you writing a lot of code.  Importantly, `GridSearchCV` supports parallelization so that fits with different parameters can be fit at the same time.  In this optional section, we will show how to use this method.  \n",
    "\n",
    "**You do not have to do this section, if you did the previous section**.  "
   ]
  },
  {
   "cell_type": "markdown",
   "metadata": {
    "id": "igkLmrmHYh0Z"
   },
   "source": [
    "The `GridSearchCV` method does the train-test split in addition to the parameter search.  In this case, you have already a fixed train-test split.  So, you first need to combine the train and test data back into a single dataset.\n",
    "\n",
    "Create arrays `X` and `y` from `Xtr1`, `Xts1`, `ytr` and `yts`.  Use `np.vstack` and `np.hstack`."
   ]
  },
  {
   "cell_type": "code",
   "execution_count": 22,
   "metadata": {
    "id": "XuB2NViUYh0Z"
   },
   "outputs": [],
   "source": [
    "# TODO 17:  Create combined trained and test data X and y.\n",
    "# X = ...\n",
    "# y = ..."
   ]
  },
  {
   "cell_type": "markdown",
   "metadata": {
    "id": "lc9GAorxYh0Z"
   },
   "source": [
    "Normally, `GridSearchCV` will do $K$-fold validation and automatically split the data into training and test in each fold.  But, in this case, we want it to perform only one fold with a specific train-test split.  To do this, we need to do the following:\n",
    "* Create a vector `test_fold` where `test_fold[i] = -1` for the samples `i` in the training data (this indicates that they should not be used as test data in any fold) and `test_fold[i] = 0` for the samples `i` in the test data (this indicates that they should be as test data in fold 0).\n",
    "* Call the method  `ps = sklearn.model_selection.PredefinedSplit(test_fold)` to create a predefined test split object."
   ]
  },
  {
   "cell_type": "code",
   "execution_count": 23,
   "metadata": {
    "id": "xKEfqrIlYh0Z"
   },
   "outputs": [],
   "source": [
    "# TODO 18:  Create a pre-defined test split object\n",
    "# import sklearn.model_selection\n",
    "# test_fold = ...\n",
    "# ps = sklearn.model_selection.PredefinedSplit(test_fold)"
   ]
  },
  {
   "cell_type": "markdown",
   "metadata": {
    "id": "jdPMPJYcYh0Z"
   },
   "source": [
    "Next, read about the `GridSearchCV` method to set up a classifier that includes searching over the parameter grid.  \n",
    "* For the `param_grid` parameter, you will want to create a dictionary to search over `C` and `gamma`.  You will also need to select the `kernel` parameter.\n",
    "* Set `cv = ps` to use the fixed train-test split.\n",
    "* Set `verbose=10` to monitor the progress"
   ]
  },
  {
   "cell_type": "code",
   "execution_count": 24,
   "metadata": {
    "id": "L4rinkVgYh0Z"
   },
   "outputs": [],
   "source": [
    "# TODO 19:  Create a GridSearchCV classifier\n",
    "# clf = ..."
   ]
  },
  {
   "cell_type": "markdown",
   "metadata": {
    "id": "yZvzigaLYh0Z"
   },
   "source": [
    "Fit the classifier using the `fit` method.  The fit method will now search over all the parameters. This will take about 30 minutes."
   ]
  },
  {
   "cell_type": "code",
   "execution_count": 25,
   "metadata": {
    "id": "gwjIX5WxYh0Z"
   },
   "outputs": [],
   "source": [
    "# TODO 20: Fit the classifier"
   ]
  },
  {
   "cell_type": "markdown",
   "metadata": {
    "id": "Ih22k669Yh0Z"
   },
   "source": [
    "Print the `best_score_` and `best_params_` attributes of the classifier to find the best score and parameters"
   ]
  },
  {
   "cell_type": "code",
   "execution_count": 26,
   "metadata": {
    "id": "1e20Kd0cYh0a"
   },
   "outputs": [],
   "source": [
    "# TODO 21:  Print the best parameter and score of the classifier"
   ]
  },
  {
   "cell_type": "markdown",
   "metadata": {
    "id": "dYumD9-XYh0a"
   },
   "source": [
    "Finally, you can print the test and train score from the `cv_results_['mean_test_score']` and `cv_results_['mean_train_score']`."
   ]
  },
  {
   "cell_type": "code",
   "execution_count": 27,
   "metadata": {
    "id": "azycH42jYh0a"
   },
   "outputs": [],
   "source": [
    "# TODO 22:  Print the mean test score for each parameter value."
   ]
  },
  {
   "cell_type": "code",
   "execution_count": null,
   "metadata": {
    "id": "kehrHgBaYh0a"
   },
   "outputs": [],
   "source": []
  }
 ],
 "metadata": {
  "colab": {
   "provenance": []
  },
  "kernelspec": {
   "display_name": "Python 3 (ipykernel)",
   "language": "python",
   "name": "python3"
  },
  "language_info": {
   "codemirror_mode": {
    "name": "ipython",
    "version": 3
   },
   "file_extension": ".py",
   "mimetype": "text/x-python",
   "name": "python",
   "nbconvert_exporter": "python",
   "pygments_lexer": "ipython3",
   "version": "3.9.12"
  }
 },
 "nbformat": 4,
 "nbformat_minor": 1
}
