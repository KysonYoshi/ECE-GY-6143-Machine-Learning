{
 "cells": [
  {
   "cell_type": "markdown",
   "metadata": {
    "id": "OhfNRAJ090ZC"
   },
   "source": [
    "# Lab:  Logistic Regression for Gene Expression Data\n",
    "\n",
    "In this lab, we use logistic regression to predict biological characteristics (\"phenotypes\") from gene expression data.  In addition to the concepts in [breast cancer demo](./breast_cancer.ipynb), you will learn to:\n",
    "* Handle missing data\n",
    "* Perform multi-class logistic classification\n",
    "* Create a confusion matrix\n",
    "* Use L1-regularization for improved estimation in the case of sparse weights (Grad students only)\n",
    "\n",
    "## Background\n",
    "\n",
    "Genes are the basic unit in the DNA and encode blueprints for proteins.  When proteins are synthesized from a gene, the gene is said to \"express\".  Micro-arrays are devices that measure the expression levels of large numbers of genes in parallel.  By finding correlations between expression levels and phenotypes, scientists can identify possible genetic markers for biological characteristics.\n",
    "\n",
    "The data in this lab comes from:\n",
    "\n",
    "https://archive.ics.uci.edu/ml/datasets/Mice+Protein+Expression\n",
    "\n",
    "In this data, mice were characterized by three properties:\n",
    "* Whether they had down's syndrome (trisomy) or not\n",
    "* Whether they were stimulated to learn or not\n",
    "* Whether they had a drug memantine or a saline control solution.\n",
    "\n",
    "With these three choices, there are 8 possible classes for each mouse.  For each mouse, the expression levels were measured across 77 genes.  We will see if the characteristics can be predicted from the gene expression levels.  This classification could reveal which genes are potentially involved in Down's syndrome and if drugs and learning have any noticeable effects.\n"
   ]
  },
  {
   "cell_type": "markdown",
   "metadata": {
    "id": "ZSI5MazS90ZE"
   },
   "source": [
    "## Load the Data\n",
    "\n",
    "We begin by loading the standard modules."
   ]
  },
  {
   "cell_type": "code",
   "execution_count": 83,
   "metadata": {
    "id": "37zF-LJZ90ZE"
   },
   "outputs": [],
   "source": [
    "import pandas as pd\n",
    "import numpy as np\n",
    "import matplotlib\n",
    "import matplotlib.pyplot as plt\n",
    "%matplotlib inline\n",
    "from sklearn import linear_model, preprocessing"
   ]
  },
  {
   "cell_type": "markdown",
   "metadata": {
    "id": "3D7JY9Lz90ZF"
   },
   "source": [
    "Use the `pd.read_excel` command to read the data from\n",
    "\n",
    "https://archive.ics.uci.edu/ml/machine-learning-databases/00342/Data_Cortex_Nuclear.xls\n",
    "\n",
    "into a dataframe `df`.  Use the `index_col` option to specify that column 0 is the index.  Use the `df.head()` to print the first few rows."
   ]
  },
  {
   "cell_type": "code",
   "execution_count": 84,
   "metadata": {
    "colab": {
     "base_uri": "https://localhost:8080/"
    },
    "id": "qv7LS0dL90ZF",
    "outputId": "f8253512-5f24-492f-ed0c-3fdebaca299e"
   },
   "outputs": [
    {
     "name": "stdout",
     "output_type": "stream",
     "text": [
      "         DYRK1A_N   ITSN1_N    BDNF_N     NR1_N    NR2A_N    pAKT_N   pBRAF_N  \\\n",
      "MouseID                                                                         \n",
      "309_1    0.503644  0.747193  0.430175  2.816329  5.990152  0.218830  0.177565   \n",
      "309_2    0.514617  0.689064  0.411770  2.789514  5.685038  0.211636  0.172817   \n",
      "309_3    0.509183  0.730247  0.418309  2.687201  5.622059  0.209011  0.175722   \n",
      "309_4    0.442107  0.617076  0.358626  2.466947  4.979503  0.222886  0.176463   \n",
      "309_5    0.434940  0.617430  0.358802  2.365785  4.718679  0.213106  0.173627   \n",
      "\n",
      "         pCAMKII_N   pCREB_N    pELK_N  ...   pCFOS_N     SYP_N  H3AcK18_N  \\\n",
      "MouseID                                 ...                                  \n",
      "309_1     2.373744  0.232224  1.750936  ...  0.108336  0.427099   0.114783   \n",
      "309_2     2.292150  0.226972  1.596377  ...  0.104315  0.441581   0.111974   \n",
      "309_3     2.283337  0.230247  1.561316  ...  0.106219  0.435777   0.111883   \n",
      "309_4     2.152301  0.207004  1.595086  ...  0.111262  0.391691   0.130405   \n",
      "309_5     2.134014  0.192158  1.504230  ...  0.110694  0.434154   0.118481   \n",
      "\n",
      "           EGR1_N  H3MeK4_N    CaNA_N  Genotype  Treatment  Behavior   class  \n",
      "MouseID                                                                       \n",
      "309_1    0.131790  0.128186  1.675652   Control  Memantine       C/S  c-CS-m  \n",
      "309_2    0.135103  0.131119  1.743610   Control  Memantine       C/S  c-CS-m  \n",
      "309_3    0.133362  0.127431  1.926427   Control  Memantine       C/S  c-CS-m  \n",
      "309_4    0.147444  0.146901  1.700563   Control  Memantine       C/S  c-CS-m  \n",
      "309_5    0.140314  0.148380  1.839730   Control  Memantine       C/S  c-CS-m  \n",
      "\n",
      "[5 rows x 81 columns]\n"
     ]
    }
   ],
   "source": [
    "# TODO 1\n",
    "#   df = pd.read_excel(...)\n",
    "df = pd.read_excel('https://archive.ics.uci.edu/ml/machine-learning-databases/00342/Data_Cortex_Nuclear.xls', index_col=0)\n",
    "print(df.head())"
   ]
  },
  {
   "cell_type": "markdown",
   "metadata": {
    "id": "3ypRrp8190ZF"
   },
   "source": [
    "This data has missing values.  The site:\n",
    "\n",
    "http://pandas.pydata.org/pandas-docs/stable/missing_data.html\n",
    "\n",
    "has an excellent summary of methods to deal with missing values.  Following the techniques there, create a new data frame `df1` where the missing values in each column are filled with the mean values from the non-missing values."
   ]
  },
  {
   "cell_type": "code",
   "execution_count": 85,
   "metadata": {
    "colab": {
     "base_uri": "https://localhost:8080/"
    },
    "id": "FxTLZ-0D90ZF",
    "outputId": "78847eba-52d0-4e79-8391-5a9d81c1ae03"
   },
   "outputs": [
    {
     "name": "stderr",
     "output_type": "stream",
     "text": [
      "C:\\Users\\User\\AppData\\Local\\Temp\\ipykernel_46408\\1452360908.py:3: FutureWarning: Dropping of nuisance columns in DataFrame reductions (with 'numeric_only=None') is deprecated; in a future version this will raise TypeError.  Select only valid columns before calling the reduction.\n",
      "  df1 = df.fillna(df.mean())\n"
     ]
    }
   ],
   "source": [
    "# TODO 2\n",
    "#  df1 = ...\n",
    "df1 = df.fillna(df.mean())"
   ]
  },
  {
   "cell_type": "markdown",
   "metadata": {
    "id": "j0M0VRDY90ZF"
   },
   "source": [
    "## Binary Classification for Down's Syndrome\n",
    "\n",
    "We will first predict the binary class label in `df1['Genotype']` which indicates if the mouse has Down's syndrome or not.  Get the string values in `df1['Genotype'].values` and convert this to a numeric vector `y` with 0 or 1.  You may wish to use the `np.unique` command with the `return_inverse=True` option."
   ]
  },
  {
   "cell_type": "code",
   "execution_count": 86,
   "metadata": {
    "id": "UDceiW1d90ZF"
   },
   "outputs": [],
   "source": [
    "# TODO 3\n",
    "#   y = ...\n",
    "labels, y = np.unique(df1['Genotype'].values, return_inverse=True)"
   ]
  },
  {
   "cell_type": "markdown",
   "metadata": {
    "id": "F756s_Y990ZG"
   },
   "source": [
    "As predictors, get all but the last four columns of the dataframes.  Store the data matrix into `X` and the names of the columns in `xnames`."
   ]
  },
  {
   "cell_type": "code",
   "execution_count": 87,
   "metadata": {
    "id": "HD7WdH2590ZG"
   },
   "outputs": [],
   "source": [
    "# TODO 4\n",
    "#   xnames = ...\n",
    "#   X = ...\n",
    "xnames = df1.columns[:-4]\n",
    "X = df1[xnames].values"
   ]
  },
  {
   "cell_type": "markdown",
   "metadata": {
    "id": "JHAUZNVQ90ZG"
   },
   "source": [
    "Split the data into training and test with 30% allocated for test.  You can use the train"
   ]
  },
  {
   "cell_type": "code",
   "execution_count": 88,
   "metadata": {
    "id": "cmiUApfd90ZG"
   },
   "outputs": [],
   "source": [
    "from sklearn.model_selection import train_test_split\n",
    "\n",
    "#Use : shuffle=True, random_state=3 so we all can have same split.\n",
    "# TODO 5:\n",
    "#   Xtr, Xts, ytr, yts = ...\n",
    "Xtr, Xts, ytr, yts = train_test_split(X, y, test_size=0.30, shuffle=True, random_state=3)"
   ]
  },
  {
   "cell_type": "markdown",
   "metadata": {
    "id": "0qgz636x90ZG"
   },
   "source": [
    "Scale the data with the `StandardScaler`.  Store the scaled values in `Xtr1` and `Xts1`."
   ]
  },
  {
   "cell_type": "code",
   "execution_count": 89,
   "metadata": {
    "id": "ZHDsNIFJ90ZG"
   },
   "outputs": [],
   "source": [
    "from sklearn.preprocessing import StandardScaler\n",
    "\n",
    "# TODO 6\n",
    "#  Xtr1 = ...\n",
    "#  Xts1 = ...\n",
    "scaler = StandardScaler()\n",
    "Xtr1 = scaler.fit_transform(Xtr)\n",
    "Xts1 = scaler.transform(Xts)"
   ]
  },
  {
   "cell_type": "markdown",
   "metadata": {
    "id": "YimrOxtk90ZG"
   },
   "source": [
    "Create a `LogisticRegression` object `logreg` and `fit` on the scaled training data.  Set the regularization level to `C=1e5` and use the optimizer `solver=liblinear`."
   ]
  },
  {
   "cell_type": "code",
   "execution_count": 90,
   "metadata": {
    "colab": {
     "base_uri": "https://localhost:8080/",
     "height": 74
    },
    "id": "LY_R33Ng90ZG",
    "outputId": "3e7c976b-5970-4d5f-941d-ca5370b6ca95"
   },
   "outputs": [
    {
     "data": {
      "text/plain": [
       "LogisticRegression(C=100000.0, solver='liblinear')"
      ]
     },
     "execution_count": 90,
     "metadata": {},
     "output_type": "execute_result"
    }
   ],
   "source": [
    "# TODO 7\n",
    "#   logreg = ...\n",
    "logreg = linear_model.LogisticRegression(C=1e5, solver='liblinear')\n",
    "logreg.fit(Xtr1, ytr)"
   ]
  },
  {
   "cell_type": "markdown",
   "metadata": {
    "id": "7JsGfMmc90ZH"
   },
   "source": [
    "Measure the accuracy of the classifer on test data.  You should get around 94%.  "
   ]
  },
  {
   "cell_type": "code",
   "execution_count": 91,
   "metadata": {
    "colab": {
     "base_uri": "https://localhost:8080/"
    },
    "id": "nTZL9dBJ90ZH",
    "outputId": "92277a78-6e31-416a-831b-0fbb0ebed205"
   },
   "outputs": [
    {
     "name": "stdout",
     "output_type": "stream",
     "text": [
      "Accuracy on test data = 0.947531\n"
     ]
    }
   ],
   "source": [
    "# TODO 8\n",
    "#   yhat = ...\n",
    "yhat = logreg.predict(Xts1)\n",
    "acc = np.mean(yhat == yts)\n",
    "print(\"Accuracy on test data = %f\" % acc)"
   ]
  },
  {
   "cell_type": "markdown",
   "metadata": {
    "id": "PBcHDTgq90ZH"
   },
   "source": [
    "## Interpreting the weight vector"
   ]
  },
  {
   "cell_type": "markdown",
   "metadata": {
    "id": "tFw6u6cW90ZH"
   },
   "source": [
    "Create a stem plot of the coefficients, `W` in the logistic regression model.  Jse the `plt.stem()` function with the `use_line_collection=True` option.  You can get the coefficients from `logreg.coef_`, but you will need to reshape this to a 1D array.  "
   ]
  },
  {
   "cell_type": "code",
   "execution_count": 92,
   "metadata": {
    "colab": {
     "base_uri": "https://localhost:8080/",
     "height": 486
    },
    "id": "c9aZ1_3n90ZH",
    "outputId": "e4712916-7367-4d9a-a0cb-4b16cdbadba9"
   },
   "outputs": [
    {
     "data": {
      "image/png": "[encoded data removed]",
      "text/plain": [
       "<Figure size 432x288 with 1 Axes>"
      ]
     },
     "metadata": {
      "needs_background": "light"
     },
     "output_type": "display_data"
    }
   ],
   "source": [
    "# TODO 9\n",
    "#   W = ...\n",
    "#   plt.stem(...)\n",
    "W = logreg.coef_[0]\n",
    "plt.stem(W, use_line_collection=True)\n",
    "plt.show()"
   ]
  },
  {
   "cell_type": "markdown",
   "metadata": {
    "id": "7R1SeejG90ZH"
   },
   "source": [
    "You should see that `W[i]` is very large for a few components `i`.  These are the genes that are likely to be most involved in Down's Syndrome.   Below we will use L1 regression to enforce sparsity.  Find the names of the genes for two components `i` where the magnitude of `W[i]` is largest.  "
   ]
  },
  {
   "cell_type": "code",
   "execution_count": 93,
   "metadata": {
    "colab": {
     "base_uri": "https://localhost:8080/"
    },
    "id": "9CVItD4_90ZH",
    "outputId": "1f1c6baa-dec8-44b0-d6e3-0729f22c128a"
   },
   "outputs": [
    {
     "name": "stdout",
     "output_type": "stream",
     "text": [
      "Genes with largest weights: BRAF_N and ITSN1_N\n"
     ]
    }
   ],
   "source": [
    "# TODO 10\n",
    "# Get indices of two largest absolute weights\n",
    "ind = np.argsort(np.abs(W))[-2:]\n",
    "print(f\"Genes with largest weights: {xnames[ind[0]]} and {xnames[ind[1]]}\")"
   ]
  },
  {
   "cell_type": "markdown",
   "metadata": {
    "id": "7_D3FyM_90ZH"
   },
   "source": [
    "## Cross Validation\n",
    "\n",
    "To obtain a slightly more accurate result, now perform 10-fold cross validation and measure the average precision, recall and f1-score.  Note, that in performing the cross-validation, you will want to randomly permute the test and training sets using the `shuffle` option.  In this data set, all the samples from each class are bunched together, so shuffling is essential.  Print the mean precision, recall and f1-score and error rate across all the folds."
   ]
  },
  {
   "cell_type": "code",
   "execution_count": 94,
   "metadata": {
    "colab": {
     "base_uri": "https://localhost:8080/"
    },
    "id": "Gc7IcddE90ZH",
    "outputId": "62c106fc-99ce-4a3b-a235-272ff1a34572"
   },
   "outputs": [
    {
     "name": "stdout",
     "output_type": "stream",
     "text": [
      "Mean precision = 0.9556\n",
      "Mean recall = 0.9487\n",
      "Mean F1 = 0.9515\n",
      "Accuracy = 0.9546\n"
     ]
    }
   ],
   "source": [
    "from sklearn.model_selection import KFold\n",
    "from sklearn.metrics import precision_recall_fscore_support\n",
    "nfold = 10\n",
    "kf = KFold(n_splits=nfold,shuffle=True)\n",
    "\n",
    "# TODO 11\n",
    "prec = []\n",
    "recall = []\n",
    "f1 = []\n",
    "acc = []\n",
    "\n",
    "for train, test in kf.split(X):\n",
    "    Xtr, Xts, ytr, yts = X[train], X[test], y[train], y[test]\n",
    "\n",
    "    scaler = StandardScaler()\n",
    "    Xtr1 = scaler.fit_transform(Xtr)\n",
    "    Xts1 = scaler.transform(Xts)\n",
    "\n",
    "    logreg.fit(Xtr1, ytr)\n",
    "    yhat = logreg.predict(Xts1)\n",
    "\n",
    "    preci, reci, f1i, _ = precision_recall_fscore_support(yts, yhat, average='binary')\n",
    "    prec.append(preci)\n",
    "    recall.append(reci)\n",
    "    f1.append(f1i)\n",
    "    acci = np.mean(yhat == yts)\n",
    "    acc.append(acci)\n",
    "\n",
    "print(f\"Mean precision = {np.mean(prec):.4f}\")\n",
    "print(f\"Mean recall = {np.mean(recall):.4f}\")\n",
    "print(f\"Mean F1 = {np.mean(f1):.4f}\")\n",
    "print(f\"Accuracy = {np.mean(acc):.4f}\")\n"
   ]
  },
  {
   "cell_type": "markdown",
   "metadata": {
    "id": "T8PcJGD990ZH"
   },
   "source": [
    "## Multi-Class Classification\n",
    "\n",
    "Now use the response variable in `df1['class']`.  This has 8 possible classes.  Use the `np.unique` funtion as before to convert this to a vector `y` with values 0 to 7."
   ]
  },
  {
   "cell_type": "code",
   "execution_count": 95,
   "metadata": {
    "id": "pcTWWVXL90ZH"
   },
   "outputs": [],
   "source": [
    "# TODO 12\n",
    "#   y = ...\n",
    "labels, y = np.unique(df1['class'].values, return_inverse=True)"
   ]
  },
  {
   "cell_type": "markdown",
   "metadata": {
    "id": "x2dNrQ4k90ZI"
   },
   "source": [
    "Fit a multi-class logistic model by creating a `LogisticRegression` object, `logreg` and then calling the `logreg.fit` method."
   ]
  },
  {
   "cell_type": "markdown",
   "metadata": {
    "id": "JFChMGwo90ZI"
   },
   "source": [
    "Now perform 10-fold cross validation, and measure the confusion matrix `C` on the test data in each fold. You can use the `confustion_matrix` method in the `sklearn` package.  Add the confusion matrix counts across all folds and then normalize the rows of the confusion matrix so that they sum to one.  Thus, each element `C[i,j]` will represent the fraction of samples where `yhat==j` given `ytrue==i`.  Print the confusion matrix.  You can use the command\n",
    "\n",
    "    print(np.array_str(C, precision=4, suppress_small=True))\n",
    "    \n",
    "to create a nicely formatted print.  Also print the overall mean and SE of the test accuracy across the folds."
   ]
  },
  {
   "cell_type": "code",
   "execution_count": 96,
   "metadata": {
    "colab": {
     "base_uri": "https://localhost:8080/"
    },
    "id": "CSwNkQqO90ZI",
    "outputId": "2b56c0ac-062a-4dd5-dfee-3d10941a746a"
   },
   "outputs": [
    {
     "name": "stdout",
     "output_type": "stream",
     "text": [
      "[[0.98   0.02   0.     0.     0.     0.     0.     0.    ]\n",
      " [0.0296 0.9556 0.     0.     0.0074 0.     0.0074 0.    ]\n",
      " [0.     0.0067 0.9867 0.     0.0067 0.     0.     0.    ]\n",
      " [0.0074 0.     0.     0.9926 0.     0.     0.     0.    ]\n",
      " [0.     0.     0.     0.     1.     0.     0.     0.    ]\n",
      " [0.     0.     0.     0.     0.     1.     0.     0.    ]\n",
      " [0.     0.     0.     0.0074 0.     0.     0.9926 0.    ]\n",
      " [0.     0.     0.     0.     0.     0.     0.     1.    ]]\n",
      "Overall Mean Test Accuracy: 0.9880\n",
      "Standard Error: 0.0031\n"
     ]
    }
   ],
   "source": [
    "from sklearn.metrics import confusion_matrix\n",
    "from sklearn.model_selection import KFold\n",
    "\n",
    "# TODO 13\n",
    "nfold = 10\n",
    "kf = KFold(n_splits=nfold, shuffle=True)\n",
    "confusion_sum = np.zeros((8,8))  # Assuming 8 classes\n",
    "accuracies = []\n",
    "for train_index, test_index in kf.split(X):\n",
    "    Xtr, Xts = X[train_index], X[test_index]\n",
    "    ytr, yts = y[train_index], y[test_index]\n",
    "\n",
    "    scaler = StandardScaler()\n",
    "    Xtr1 = scaler.fit_transform(Xtr)\n",
    "    Xts1 = scaler.transform(Xts)\n",
    "\n",
    "    logreg = linear_model.LogisticRegression(C=1e5, solver='liblinear', multi_class='auto')\n",
    "    logreg.fit(Xtr1, ytr)\n",
    "    yhat = logreg.predict(Xts1)\n",
    "\n",
    "    confusion_sum += confusion_matrix(yts, yhat)\n",
    "\n",
    "    accuracies.append(np.mean(yhat == yts))\n",
    "\n",
    "confusion_normalized = confusion_sum / confusion_sum.sum(axis=1, keepdims=True)\n",
    "\n",
    "print(np.array_str(confusion_normalized, precision=4, suppress_small=True))\n",
    "\n",
    "mean_accuracy = np.mean(accuracies)\n",
    "se_accuracy = np.std(accuracies)/np.sqrt(nfold-1)\n",
    "print(f\"Overall Mean Test Accuracy: {mean_accuracy:.4f}\")\n",
    "print(f\"Standard Error: {se_accuracy:.4f}\")\n"
   ]
  },
  {
   "cell_type": "markdown",
   "metadata": {
    "id": "NPgKw_nF90ZI"
   },
   "source": [
    "Re-run the logistic regression on the entire training data and get the weight coefficients.  This should be a 8 x 77 matrix.  Create a stem plot of the first row of this matrix to see the coefficients on each of the genes."
   ]
  },
  {
   "cell_type": "code",
   "execution_count": 97,
   "metadata": {
    "colab": {
     "base_uri": "https://localhost:8080/",
     "height": 505
    },
    "id": "BXIRK0c690ZI",
    "outputId": "b7a6f9db-9e77-4531-8c18-5ed430aab309"
   },
   "outputs": [
    {
     "data": {
      "image/png": "[encoded data removed]",
      "text/plain": [
       "<Figure size 432x288 with 1 Axes>"
      ]
     },
     "metadata": {
      "needs_background": "light"
     },
     "output_type": "display_data"
    }
   ],
   "source": [
    "# TODO 14\n",
    "W_multi = logreg.coef_\n",
    "plt.stem(W_multi[0,:], use_line_collection=True)\n",
    "plt.xlabel('Variable Index')\n",
    "plt.ylabel('Weight')\n",
    "plt.show()"
   ]
  },
  {
   "cell_type": "markdown",
   "metadata": {
    "collapsed": true,
    "id": "sJ70w_dN90ZI"
   },
   "source": [
    "## L1-Regularization\n",
    "\n",
    "This section is bonus.\n",
    "\n",
    "In most genetic problems, only a limited number of the tested genes are likely influence any particular attribute.  Hence, we would expect that the weight coefficients in the logistic regression model should be sparse.  That is, they should be zero on any gene that plays no role in the particular attribute of interest.  Genetic analysis commonly imposes sparsity by adding an l1-penalty term.  Read the `sklearn` [documentation](http://scikit-learn.org/stable/modules/generated/sklearn.linear_model.LogisticRegression.html) on the `LogisticRegression` class to see how to set the l1-penalty and the inverse regularization strength, `C`.\n",
    "\n",
    "Using the model selection strategies from the [housing demo](../unit05_lasso/demo2_housing.ipynb), use K-fold cross validation to select an appropriate inverse regularization strength.  \n",
    "* Use 10-fold cross validation\n",
    "* You should select around 20 values of `C`.  It is up to you find a good range.\n",
    "* Make appropriate plots and print out to display your results\n",
    "* How does the accuracy compare to the accuracy achieved without regularization."
   ]
  },
  {
   "cell_type": "code",
   "execution_count": 98,
   "metadata": {
    "colab": {
     "base_uri": "https://localhost:8080/",
     "height": 512
    },
    "id": "OHmsPjI690ZI",
    "outputId": "a11464ab-ac30-480d-9984-6e4e49318efc"
   },
   "outputs": [
    {
     "data": {
      "image/png": "[encoded data removed]",
      "text/plain": [
       "<Figure size 432x288 with 1 Axes>"
      ]
     },
     "metadata": {
      "needs_background": "light"
     },
     "output_type": "display_data"
    },
    {
     "name": "stdout",
     "output_type": "stream",
     "text": [
      "The best C value is: 4.281332398719396\n",
      "Number of non-zero coefficients: 204\n"
     ]
    }
   ],
   "source": [
    "# TODO 15\n",
    "from sklearn.metrics import accuracy_score\n",
    "\n",
    "# Possible C values\n",
    "C_values = np.logspace(-4, 4, 20)\n",
    "nfold = 10\n",
    "\n",
    "kf = KFold(n_splits=nfold, shuffle=True)\n",
    "mean_acc = []\n",
    "\n",
    "for C in C_values:\n",
    "    acc_fold = []\n",
    "\n",
    "    for train, test in kf.split(X):\n",
    "        # Split and scale data\n",
    "        Xtr = X[train,:]\n",
    "        ytr = y[train]\n",
    "        Xts = X[test,:]\n",
    "        yts = y[test]\n",
    "\n",
    "        scaler = StandardScaler()\n",
    "        Xtr1 = scaler.fit_transform(Xtr)\n",
    "        Xts1 = scaler.transform(Xts)\n",
    "\n",
    "        # Create logistic regression model with L1 regularization\n",
    "        logreg_l1 = linear_model.LogisticRegression(penalty='l1', C=C, solver='liblinear', multi_class='ovr')\n",
    "        logreg_l1.fit(Xtr1, ytr)\n",
    "        yhat = logreg_l1.predict(Xts1)\n",
    "\n",
    "        # Measure accuracy and append to list\n",
    "        acc = accuracy_score(yts, yhat)\n",
    "        acc_fold.append(acc)\n",
    "\n",
    "    mean_acc.append(np.mean(acc_fold))\n",
    "\n",
    "# Plotting the results\n",
    "plt.semilogx(C_values, mean_acc, '-o')\n",
    "plt.xlabel('C (Inverse Regularization Strength)')\n",
    "plt.ylabel('Mean Accuracy')\n",
    "plt.grid(True)\n",
    "plt.title('Accuracy vs. Regularization Strength')\n",
    "plt.show()\n",
    "\n",
    "# Identify the best C value\n",
    "C_best = C_values[np.argmax(mean_acc)]\n",
    "print(f\"The best C value is: {C_best}\")\n",
    "\n",
    "logreg_best = linear_model.LogisticRegression(penalty='l1', C=C_best, solver='liblinear')\n",
    "logreg_best.fit(X, y)\n",
    "print(\"Number of non-zero coefficients:\", np.sum(logreg_best.coef_ != 0))\n"
   ]
  },
  {
   "cell_type": "code",
   "execution_count": null,
   "metadata": {
    "id": "xPN-hxS090ZI"
   },
   "outputs": [],
   "source": []
  }
 ],
 "metadata": {
  "anaconda-cloud": {},
  "colab": {
   "provenance": []
  },
  "kernelspec": {
   "display_name": "Python 3 (ipykernel)",
   "language": "python",
   "name": "python3"
  },
  "language_info": {
   "codemirror_mode": {
    "name": "ipython",
    "version": 3
   },
   "file_extension": ".py",
   "mimetype": "text/x-python",
   "name": "python",
   "nbconvert_exporter": "python",
   "pygments_lexer": "ipython3",
   "version": "3.9.12"
  }
 },
 "nbformat": 4,
 "nbformat_minor": 1
}
